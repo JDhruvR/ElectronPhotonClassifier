{
 "cells": [
  {
   "cell_type": "code",
   "execution_count": null,
   "id": "Hbol",
   "metadata": {},
   "outputs": [],
   "source": [
    "import marimo as mo\n",
    "from utils import load_electron_photon_dataset, create_transform, show_image"
   ]
  },
  {
   "cell_type": "code",
   "execution_count": null,
   "id": "MJUe",
   "metadata": {},
   "outputs": [],
   "source": [
    "electron_dataset_path = \"data/SingleElectron249k.hdf5\"\n",
    "photon_dataset_path = \"data/SinglePhoton249k.hdf5\""
   ]
  },
  {
   "cell_type": "code",
   "execution_count": null,
   "id": "vblA",
   "metadata": {},
   "outputs": [],
   "source": [
    "train_loader, val_loader, test_loader, transform = load_electron_photon_dataset(\n",
    "    electron_dataset_path, photon_dataset_path, (0.70, 0.15, 0.15), 512\n",
    ")"
   ]
  },
  {
   "cell_type": "code",
   "execution_count": null,
   "id": "bkHC",
   "metadata": {},
   "outputs": [],
   "source": [
    "show_image(train_loader.dataset[3][0]), show_image(train_loader.dataset[-3][0])"
   ]
  },
  {
   "cell_type": "code",
   "execution_count": null,
   "id": "lEQa",
   "metadata": {},
   "outputs": [],
   "source": []
  }
 ],
 "metadata": {},
 "nbformat": 4,
 "nbformat_minor": 5
}
